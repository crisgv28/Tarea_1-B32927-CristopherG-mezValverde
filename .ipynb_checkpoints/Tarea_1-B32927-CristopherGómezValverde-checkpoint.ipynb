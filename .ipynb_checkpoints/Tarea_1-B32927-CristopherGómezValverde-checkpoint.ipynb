{
 "cells": [
  {
   "cell_type": "code",
   "execution_count": 32,
   "id": "402e4d81-5071-4468-b5f1-4a0915f6d533",
   "metadata": {},
   "outputs": [
    {
     "data": {
      "text/plain": [
       "{'Dividendo': [87, 45, 92],\n",
       " 'Divisor': 3,\n",
       " 'Cociente': [29, 15, 30],\n",
       " 'Residuo': [0, 0, 2]}"
      ]
     },
     "execution_count": 32,
     "metadata": {},
     "output_type": "execute_result"
    }
   ],
   "source": [
    "# Ejercicio 1\n",
    "import random\n",
    "\n",
    "#Función que inicia una lista de 3 valores aleatorios y otro random y devuelve un dic con el resultado de la división.\n",
    "def Ej1():\n",
    "    list_aleatoria = [random.randint(1,100),random.randint(1,100),random.randint(1,100)] # Se llena la lista / randint(a,b) genera un número entero entre a y b inclusive.\n",
    "    num_aleatorio = random.randint(1,10) # se genera el divisor\n",
    "    dic_division = { # se crea el diccionario\n",
    "        \"Dividendo\": list_aleatoria,\n",
    "        \"Divisor\": num_aleatorio,\n",
    "        \"Cociente\": [list_aleatoria[0]//num_aleatorio,list_aleatoria[1]//num_aleatorio,list_aleatoria[2]//num_aleatorio], # // para cociente\n",
    "        \"Residuo\": [list_aleatoria[0]%num_aleatorio,list_aleatoria[1]%num_aleatorio,list_aleatoria[2]%num_aleatorio] # % para residuo\n",
    "    }\n",
    "    return(dic_division)\n",
    "\n",
    "Ej1() #Ejecutamos la función anterior"
   ]
  },
  {
   "cell_type": "code",
   "execution_count": 134,
   "id": "549e3c27-20cb-4ec6-b16e-8440f50f73f5",
   "metadata": {},
   "outputs": [
    {
     "data": {
      "text/plain": [
       "{'¡Hola!,': 1, '¿cómo': 1, 'va': 1, 'todo?': 1, 'Éxitos': 1}"
      ]
     },
     "execution_count": 134,
     "metadata": {},
     "output_type": "execute_result"
    }
   ],
   "source": [
    "# Ejercicio 2\n",
    "\n",
    "#Función que devuelve un dic con la frecuencia de las palabras en un string\n",
    "#input: string \n",
    "#output: dic\n",
    "def conteoString(hilera: str):\n",
    "    list_hilera = hilera.split()\n",
    "    dic_palabras = {\n",
    "        list_hilera[0]: hilera.count(list_hilera[0]),\n",
    "        list_hilera[1]: hilera.count(list_hilera[1]),\n",
    "        list_hilera[2]: hilera.count(list_hilera[2]),\n",
    "        list_hilera[3]: hilera.count(list_hilera[3]),\n",
    "        list_hilera[4]: hilera.count(list_hilera[4])\n",
    "    }\n",
    "    return dic_palabras\n",
    "conteoString('¡Hola!, ¿cómo va todo? Éxitos')"
   ]
  },
  {
   "cell_type": "code",
   "execution_count": 109,
   "id": "e56047a2-0830-4fce-93fe-2684595e4423",
   "metadata": {},
   "outputs": [
    {
     "data": {
      "text/plain": [
       "{'La cantidad de signos de puntuación es': 6}"
      ]
     },
     "execution_count": 109,
     "metadata": {},
     "output_type": "execute_result"
    }
   ],
   "source": [
    "#Ejercicio 3\n",
    "\n",
    "#función que cuenta los signos de puntuación en una cadena\n",
    "#input: str\n",
    "#output: dic\n",
    "def conteoSignos(hilera: str):\n",
    "    dic_cant_signos = {\n",
    "        \"La cantidad de signos de puntuación es\": hilera.count('!')+hilera.count('¡')+hilera.count(',')+hilera.count('.')+hilera.count('¿')+hilera.count('?')\n",
    "    }\n",
    "    return dic_cant_signos\n",
    "\n",
    "conteoSignos(\"¡Hola!, ¿cómo va todo?, Éxitos\")"
   ]
  },
  {
   "cell_type": "code",
   "execution_count": 129,
   "id": "1b0cf0c8-a7bc-461e-8b37-b1245e39affd",
   "metadata": {},
   "outputs": [
    {
     "data": {
      "text/plain": [
       "'artificial'"
      ]
     },
     "execution_count": 129,
     "metadata": {},
     "output_type": "execute_result"
    }
   ],
   "source": [
    "# Ejercicio 4\n",
    "\n",
    "#función que devuelve la palabra más largar donde se encuentra un caracter\n",
    "#input: str (con 2 palabras)\n",
    "#output: str (caracter presente)\n",
    "def palabraMasLarga(hilera: str, caracter: str):\n",
    "    lista_hilera = hilera.lower().split()\n",
    "    if((caracter in lista_hilera[0]) and (len(lista_hilera[0])>=len(lista_hilera[1]))):\n",
    "        palabraLarga = lista_hilera[0]\n",
    "    else:\n",
    "        palabraLarga = lista_hilera[1]\n",
    "    return palabraLarga\n",
    "\n",
    "palabraMasLarga(\"Inteligencia artificial\", \"f\")"
   ]
  },
  {
   "cell_type": "code",
   "execution_count": 156,
   "id": "5340617f-e9a2-4634-83a8-e87ebd79f90f",
   "metadata": {},
   "outputs": [
    {
     "data": {
      "text/plain": [
       "{'Edad media': 29.5,\n",
       " 'tiempo de permanencia promedio': 224.0,\n",
       " 'costo promedio por paciente': 7177158.25,\n",
       " 'edad paciente menor': 7,\n",
       " 'edad paciente mayor': 65}"
      ]
     },
     "execution_count": 156,
     "metadata": {},
     "output_type": "execute_result"
    }
   ],
   "source": [
    "# Ejercicio 5\n",
    "\n",
    "import datetime\n",
    "lista_pacientes = {\n",
    "\"1\": {\n",
    "\"Edad\": 23,\n",
    "\"Tipo sangre\": \"-O\",\n",
    "\"Fecha ingreso\": datetime.datetime(2023, 6, 1),\n",
    "\"Fecha salida\": datetime.datetime(2023, 6, 15),\n",
    "\"Nivel de emergencia\": 2,\n",
    "\"Pago de servicios\": 502333\n",
    "},\n",
    "\"2\": {\n",
    "\"Edad\": 7,\n",
    "\"Tipo sangre\": \"AB+\",\n",
    "\"Fecha ingreso\": datetime.datetime(2024, 1, 1),\n",
    "\"Fecha salida\": datetime.datetime(2025, 6, 1), # aquí había NA, se coloca 1.5 años para que concuerde con el dato del paciente nivel 4. Suponiendo que el nivel de emergencia contempla cuanto va a durar en el hospital.\n",
    "\"Nivel de emergencia\": 5,\n",
    "\"Pago de servicios\": 0\n",
    "},\n",
    "\"3\": {\n",
    "\"Edad\": 65,\n",
    "\"Tipo sangre\": \"AB+\",\n",
    "\"Fecha ingreso\": datetime.datetime(2023, 2, 1),\n",
    "\"Fecha salida\": datetime.datetime(2024, 2, 1),\n",
    "\"Nivel de emergencia\": 4,\n",
    "\"Pago de servicios\": 28006000\n",
    "},\n",
    "\"4\": {\n",
    "\"Edad\": 23,\n",
    "\"Tipo sangre\": \"AB-\",\n",
    "\"Fecha ingreso\": datetime.datetime(2024, 2, 1),\n",
    "\"Fecha salida\": datetime.datetime(2024, 2, 1),\n",
    "\"Nivel de emergencia\": 0,\n",
    "\"Pago de servicios\": 200300\n",
    "},\n",
    "}\n",
    "\n",
    "\n",
    "#función que resume características de los pacientes\n",
    "#input: dic (hospital)\n",
    "#output: dic (algunos estadísticos)\n",
    "def resumenEstad(hospital: dict):\n",
    "    dic_resumen = {\n",
    "        \"Edad media\": (hospital[\"1\"][\"Edad\"]+hospital[\"2\"][\"Edad\"]+hospital[\"3\"][\"Edad\"]+hospital[\"4\"][\"Edad\"])/len(hospital),\n",
    "        \"tiempo de permanencia promedio\": ((hospital[\"1\"][\"Fecha salida\"]-hospital[\"1\"][\"Fecha ingreso\"]).days+(hospital[\"2\"][\"Fecha salida\"]-hospital[\"2\"][\"Fecha ingreso\"]).days+(hospital[\"3\"][\"Fecha salida\"]-hospital[\"3\"][\"Fecha ingreso\"]).days+(hospital[\"4\"][\"Fecha salida\"]-hospital[\"4\"][\"Fecha ingreso\"]).days)/len(hospital),\n",
    "        \"costo promedio por paciente\": (hospital[\"1\"][\"Pago de servicios\"]+hospital[\"2\"][\"Pago de servicios\"]+hospital[\"3\"][\"Pago de servicios\"]+hospital[\"4\"][\"Pago de servicios\"])/len(hospital),\n",
    "        \"edad paciente menor\": min(hospital[\"1\"][\"Edad\"],hospital[\"2\"][\"Edad\"],hospital[\"3\"][\"Edad\"],hospital[\"4\"][\"Edad\"]),\n",
    "        \"edad paciente mayor\": max(hospital[\"1\"][\"Edad\"],hospital[\"2\"][\"Edad\"],hospital[\"3\"][\"Edad\"],hospital[\"4\"][\"Edad\"])\n",
    "    }\n",
    "    return dic_resumen\n",
    "\n",
    "resumenEstad(lista_pacientes)"
   ]
  },
  {
   "cell_type": "code",
   "execution_count": 174,
   "id": "ba04dfd6-ddfa-4ff8-a115-2d86339d005f",
   "metadata": {},
   "outputs": [
    {
     "data": {
      "text/plain": [
       "{'1': {'Pago nuevo': 210000,\n",
       "  'diferencia con respecto al pago anterior': 292333,\n",
       "  'IVA': 27300.0},\n",
       " '2': {'Pago nuevo': 0,\n",
       "  'diferencia con respecto al pago anterior': 0,\n",
       "  'IVA': 0.0},\n",
       " '3': {'Pago nuevo': 12166666.666666666,\n",
       "  'diferencia con respecto al pago anterior': 15839333.333333334,\n",
       "  'IVA': 1581666.6666666665},\n",
       " '4': {'Pago nuevo': 8000,\n",
       "  'diferencia con respecto al pago anterior': 192300,\n",
       "  'IVA': 1040.0}}"
      ]
     },
     "execution_count": 174,
     "metadata": {},
     "output_type": "execute_result"
    }
   ],
   "source": [
    "# Ejercicio 6\n",
    "\n",
    "#función para devolver el pago nuevo de un paciente\n",
    "#input: dic (paciente)\n",
    "#output: int pago\n",
    "def calculoNuevoPago(paciente: dict):\n",
    "    dias = (paciente[\"Fecha salida\"]-paciente[\"Fecha ingreso\"]).days\n",
    "    if(paciente['Edad']<18): #condicional que verifica si el paciente es menor o mayor de edad\n",
    "        return 0\n",
    "    else:\n",
    "        if (dias<=1):\n",
    "            pago = 8000\n",
    "        elif(dias>1 and dias<=30):\n",
    "            pago = 15000*dias\n",
    "        elif(dias>30):\n",
    "            pago=1000000*dias/30\n",
    "        return pago\n",
    "\n",
    "\n",
    "dic_nuevo_esquema = { #diccionario con calculos nuevos\n",
    "    \"1\": {\n",
    "        \"Pago nuevo\": calculoNuevoPago(lista_pacientes[\"1\"]),\n",
    "        \"diferencia con respecto al pago anterior\": lista_pacientes[\"1\"][\"Pago de servicios\"]-calculoNuevoPago(lista_pacientes[\"1\"]),\n",
    "        \"IVA\": calculoNuevoPago(lista_pacientes[\"1\"])*13/100\n",
    "    },\n",
    "    \"2\": {\n",
    "        \"Pago nuevo\": calculoNuevoPago(lista_pacientes[\"2\"]),\n",
    "        \"diferencia con respecto al pago anterior\": lista_pacientes[\"2\"][\"Pago de servicios\"]-calculoNuevoPago(lista_pacientes[\"2\"]),\n",
    "        \"IVA\": calculoNuevoPago(lista_pacientes[\"2\"])*13/100\n",
    "    },\n",
    "    \"3\": {\n",
    "        \"Pago nuevo\": calculoNuevoPago(lista_pacientes[\"3\"]),\n",
    "        \"diferencia con respecto al pago anterior\": lista_pacientes[\"3\"][\"Pago de servicios\"]-calculoNuevoPago(lista_pacientes[\"3\"]),\n",
    "        \"IVA\": calculoNuevoPago(lista_pacientes[\"3\"])*13/100\n",
    "    },\n",
    "    \"4\": {\n",
    "        \"Pago nuevo\": calculoNuevoPago(lista_pacientes[\"4\"]),\n",
    "        \"diferencia con respecto al pago anterior\": lista_pacientes[\"4\"][\"Pago de servicios\"]-calculoNuevoPago(lista_pacientes[\"4\"]),\n",
    "        \"IVA\": calculoNuevoPago(lista_pacientes[\"4\"])*13/100\n",
    "    }\n",
    "}\n",
    "\n",
    "dic_nuevo_esquema"
   ]
  },
  {
   "cell_type": "code",
   "execution_count": 50,
   "id": "33af34a2-1c93-499e-8453-de5a83067269",
   "metadata": {},
   "outputs": [
    {
     "data": {
      "text/plain": [
       "{'Tipo de seguro': 'Automóviles comunes',\n",
       " 'prima base': 630000.0,\n",
       " 'prima bajo descuento': 622177.303518422,\n",
       " 'meses de cobertura': 6,\n",
       " 'pago mensual (sin descuento)': 105000.0}"
      ]
     },
     "execution_count": 50,
     "metadata": {},
     "output_type": "execute_result"
    }
   ],
   "source": [
    "#Ejercicio 7\n",
    "\n",
    "#funcion que cotiza un seguro\n",
    "#input: str (clase de seguro), float (valor fiscal), str (periodicidad)\n",
    "#output: dict (info general sobre el seguro)\n",
    "def cotizacion(clase: str, valor_fiscal: float, periodicidad: str):\n",
    "    dic_tipos_seguro = {\n",
    "        \"Automóviles comunes\": 3/100, \n",
    "        \"carros para Uber\": 5/100,\n",
    "        \"motocicletas\": 5.5/100, \n",
    "        \"Camión de carga pesada o liviana\": 4/100,\n",
    "        \"Buses\": 5/100, \n",
    "        \"Embarcaciones\": 5/100\n",
    "    }\n",
    "    \n",
    "    #condicional para averiguar la cantidad de meses que el cliente solicita y calculo de primas\n",
    "    if(periodicidad == \"Mensual\"):\n",
    "        meses = 1\n",
    "        prima_base = dic_tipos_seguro[clase]*valor_fiscal\n",
    "        prima_desc = prima_base\n",
    "    elif(periodicidad == \"Trimestral\"):\n",
    "        meses = 3\n",
    "        prima_base = dic_tipos_seguro[clase]*valor_fiscal*3\n",
    "        prima_desc = dic_tipos_seguro[clase]*valor_fiscal*((1-(0.995)**3)/0.005) # esto porque por cada mes se le rebajará 0.5%\n",
    "    elif(periodicidad == \"Semestral\"):\n",
    "        meses = 6\n",
    "        prima_base = dic_tipos_seguro[clase]*valor_fiscal*6\n",
    "        prima_desc = dic_tipos_seguro[clase]*valor_fiscal*((1-(0.995)**6)/0.005)# esto porque por cada mes se le rebajará 0.5%\n",
    "    elif(periodicidad == \"Anual\"):\n",
    "        meses = 12\n",
    "        prima_basel = dic_tipos_seguro[clase]*valor_fiscal*12\n",
    "        prima_desc = dic_tipos_seguro[clase]*valor_fiscal*((1-(0.995)**12)/0.005)# esto porque por cada mes se le rebajará 0.5%\n",
    "    else:\n",
    "        meses = 0\n",
    "\n",
    "    #diccionario con el resumen de la cotización solicitada\n",
    "    dic_cotizacion = {\n",
    "        \"Tipo de seguro\": clase, \n",
    "        \"prima base\": prima_base,\n",
    "        \"prima bajo descuento\": prima_desc,\n",
    "        \"meses de cobertura\": meses,\n",
    "        \"pago mensual (sin descuento)\" : dic_tipos_seguro[clase]*valor_fiscal\n",
    "    }\n",
    "    \n",
    "    return dic_cotizacion\n",
    "    \n",
    "#Ejemplo: si el cliente solicita un seguro de \"Automóviles comunes\", con un valor fiscal de 3.5 millones y de periodicidad semestral:\n",
    "cotizacion(\"Automóviles comunes\",3500000,\"Semestral\")"
   ]
  },
  {
   "cell_type": "code",
   "execution_count": null,
   "id": "cfa390d2-56de-4238-b1b1-73d712d0b182",
   "metadata": {},
   "outputs": [],
   "source": []
  }
 ],
 "metadata": {
  "kernelspec": {
   "display_name": "Python 3 (ipykernel)",
   "language": "python",
   "name": "python3"
  },
  "language_info": {
   "codemirror_mode": {
    "name": "ipython",
    "version": 3
   },
   "file_extension": ".py",
   "mimetype": "text/x-python",
   "name": "python",
   "nbconvert_exporter": "python",
   "pygments_lexer": "ipython3",
   "version": "3.11.7"
  }
 },
 "nbformat": 4,
 "nbformat_minor": 5
}
